{
  "nbformat": 4,
  "nbformat_minor": 0,
  "metadata": {
    "colab": {
      "name": "Untitled4.ipynb",
      "provenance": [],
      "collapsed_sections": []
    },
    "kernelspec": {
      "name": "python3",
      "display_name": "Python 3"
    },
    "language_info": {
      "name": "python"
    }
  },
  "cells": [
    {
      "cell_type": "code",
      "metadata": {
        "colab": {
          "base_uri": "https://localhost:8080/"
        },
        "id": "a7sRDy3uSVJN",
        "outputId": "9608e66c-566f-41c3-b6f9-e6aabf23912b"
      },
      "source": [
        "import requests\n",
        "from datetime import datetime\n",
        "api_key = '955754a8474fbe4cec941d17d4a775ec'\n",
        "location = input(\"enter city name : \")\n",
        "complete_api_link = \"https://api.openweathermap.org/data/2.5/weather?q=\"+location+\"&appid=\"+api_key\n",
        "api_link = requests.get(complete_api_link)\n",
        "api_data = api_link.json()\n",
        "temp_city = ((api_data[\"main\"][\"temp\"]) - 273.15)\n",
        "weather_desc = api_data['weather'][0]['description']\n",
        "hmdt = api_data[\"main\"]['humidity']\n",
        "wind_speed = api_data['wind']['speed']\n",
        "date_time = datetime.now().strftime(\"%d %b %Y | %I %S %M %p\")\n",
        "print(\"-----------------------------------------------------------\")\n",
        "print(\"weather stats for - {} || {}\".format(location.upper(),date_time))\n",
        "print(\"-----------------------------------------------------------\")\n",
        "print(\"current temperature is : {:.2f} deg C\".format(temp_city))\n",
        "print(\"current weather desc :\",weather_desc)\n",
        "print(\"current humidity     :\",hmdt, '%')\n",
        "print(\"current ind speed    :\",wind_speed,'kmph')\n",
        "\n",
        "\n"
      ],
      "execution_count": 1,
      "outputs": [
        {
          "output_type": "stream",
          "text": [
            "enter city name : moradabad\n",
            "-----------------------------------------------------------\n",
            "weather stats for - MORADABAD || 23 Jun 2021 | 09 13 53 AM\n",
            "-----------------------------------------------------------\n",
            "current temperature is : 40.26 deg C\n",
            "current weather desc : clear sky\n",
            "current humidity     : 21 %\n",
            "current ind speed    : 1.86 kmph\n"
          ],
          "name": "stdout"
        }
      ]
    }
  ]
}